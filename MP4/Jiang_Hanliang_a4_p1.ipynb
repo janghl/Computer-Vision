{
 "cells": [
  {
   "cell_type": "markdown",
   "metadata": {},
   "source": [
    "# Part 3: Single-View Geometry\n",
    "\n",
    "## Usage\n",
    "This code snippet provides an overall code structure and some interactive plot interfaces for the *Single-View Geometry* section of Assignment 3. In [main function](#Main-function), we outline the required functionalities step by step. Some of the functions which involves interactive plots are already provided, but [the rest](#Your-implementation) are left for you to implement.\n",
    "\n",
    "## Package installation\n",
    "- In this code, we use `tkinter` package. Installation instruction can be found [here](https://anaconda.org/anaconda/tk)."
   ]
  },
  {
   "cell_type": "markdown",
   "metadata": {},
   "source": [
    "# Common imports"
   ]
  },
  {
   "cell_type": "code",
   "execution_count": 1,
   "metadata": {},
   "outputs": [],
   "source": [
    "%matplotlib tk\n",
    "import matplotlib.pyplot as plt\n",
    "import numpy as np\n",
    "from sympy import *\n",
    "from sympy import solve\n",
    "\n",
    "from PIL import Image"
   ]
  },
  {
   "cell_type": "markdown",
   "metadata": {},
   "source": [
    "# Provided functions"
   ]
  },
  {
   "cell_type": "code",
   "execution_count": 2,
   "metadata": {},
   "outputs": [],
   "source": [
    "def get_input_lines(im, min_lines=3):\n",
    "    \"\"\"\n",
    "    Allows user to input line segments; computes centers and directions.\n",
    "    Inputs:\n",
    "        im: np.ndarray of shape (height, width, 3)\n",
    "        min_lines: minimum number of lines required\n",
    "    Returns:\n",
    "        n: number of lines from input\n",
    "        lines: np.ndarray of shape (3, n)\n",
    "            where each column denotes the parameters of the line equation\n",
    "        centers: np.ndarray of shape (3, n)\n",
    "            where each column denotes the homogeneous coordinates of the centers\n",
    "    \"\"\"\n",
    "    n = 0\n",
    "    lines = np.zeros((3-0))\n",
    "    centers = np.zeros((3-0))\n",
    "    endpoints = np.zeros((6-0))\n",
    "\n",
    "    plt.figure()\n",
    "    plt.imshow(im)\n",
    "    plt.show()\n",
    "    print('Set at least %d lines to compute vanishing point' % min_lines)\n",
    "    while True:\n",
    "        print('Click the two endpoints, use the right key to undo, and use the middle key to stop input')\n",
    "        clicked = plt.ginput(2, timeout=0, show_clicks=True)\n",
    "        if not clicked or len(clicked) < 2:\n",
    "            if n < min_lines:\n",
    "                print('Need at least %d lines, you have %d now' % (min_lines, n))\n",
    "                continue\n",
    "            else:\n",
    "                # Stop getting lines if number of lines is enough\n",
    "                break\n",
    "\n",
    "        # Unpack user inputs and save as homogeneous coordinates\n",
    "        pt1 = np.array([clicked[0][0], clicked[0][1], 1])\n",
    "        pt2 = np.array([clicked[1][0], clicked[1][1], 1])\n",
    "        # Get line equation using cross product\n",
    "        # Line equation: line[0] * x + line[1] * y + line[2] = 0\n",
    "        line = np.cross(pt1, pt2)\n",
    "        lines = np.append(lines, line.reshape((3, 1)), axis=1)\n",
    "        # Get center coordinate of the line segment\n",
    "        center = (pt1 + pt2) / 2\n",
    "        centers = np.append(centers, center.reshape((3, 1)), axis=1)\n",
    "        endpoint = np.hstack((pt1, pt2))\n",
    "        endpoints = np.append(endpoints, endpoint.reshape((6, 1)), axis=1)\n",
    "\n",
    "        # Plot line segment\n",
    "        plt.plot([pt1[0], pt2[0]], [pt1[1], pt2[1]], color='b')\n",
    "\n",
    "        n += 1\n",
    "\n",
    "    return n, lines, centers, endpoints"
   ]
  },
  {
   "cell_type": "code",
   "execution_count": 3,
   "metadata": {},
   "outputs": [],
   "source": [
    "def plot_lines_and_vp(im, lines, vp):\n",
    "    \"\"\"\n",
    "    Plots user-input lines and the calculated vanishing point.\n",
    "    Inputs:\n",
    "        im: np.ndarray of shape (height, width, 3)\n",
    "        lines: np.ndarray of shape (3, n)\n",
    "            where each column denotes the parameters of the line equation\n",
    "        vp: np.ndarray of shape (3, )\n",
    "    \"\"\"\n",
    "    bx1 = min(1, vp[0] / vp[2]) - 10\n",
    "    bx2 = max(im.shape[1], vp[0] / vp[2]) + 10\n",
    "    by1 = min(1, vp[1] / vp[2]) - 10\n",
    "    by2 = max(im.shape[0], vp[1] / vp[2]) + 10\n",
    "\n",
    "    plt.figure()\n",
    "    plt.imshow(im)\n",
    "    for i in range(lines.shape[1]):\n",
    "        if lines[0, i] < lines[1, i]:\n",
    "            pt1 = np.cross(np.array([1, 0, -bx1]), lines[:, i])\n",
    "            pt2 = np.cross(np.array([1, 0, -bx2]), lines[:, i])\n",
    "        else:\n",
    "            pt1 = np.cross(np.array([0, 1, -by1]), lines[:, i])\n",
    "            pt2 = np.cross(np.array([0, 1, -by2]), lines[:, i])\n",
    "        pt1 = pt1 / pt1[2]\n",
    "        pt2 = pt2 / pt2[2]\n",
    "        plt.plot([pt1[0], pt2[0]], [pt1[1], pt2[1]], 'g')\n",
    "\n",
    "    plt.plot(vp[0] / vp[2], vp[1] / vp[2], 'ro')\n",
    "    plt.show()"
   ]
  },
  {
   "cell_type": "code",
   "execution_count": 4,
   "metadata": {},
   "outputs": [],
   "source": [
    "def get_top_and_bottom_coordinates(im, obj):\n",
    "    \"\"\"\n",
    "    For a specific object, prompts user to record the top coordinate and the bottom coordinate in the image.\n",
    "    Inputs:\n",
    "        im: np.ndarray of shape (height, width, 3)\n",
    "        obj: string, object name\n",
    "    Returns:\n",
    "        coord: np.ndarray of shape (3, 2)\n",
    "            where coord[:, 0] is the homogeneous coordinate of the top of the object and coord[:, 1] is the homogeneous\n",
    "            coordinate of the bottom\n",
    "    \"\"\"\n",
    "    plt.figure()\n",
    "    plt.imshow(im)\n",
    "\n",
    "    print('Click on the top coordinate of %s' % obj)\n",
    "    clicked = plt.ginput(1, timeout=0, show_clicks=True)\n",
    "    x1, y1 = clicked[0]\n",
    "    # Uncomment this line to enable a vertical line to help align the two coordinates\n",
    "    # plt.plot([x1, x1], [0, im.shape[0]], 'b')\n",
    "    print('Click on the bottom coordinate of %s' % obj)\n",
    "    clicked = plt.ginput(1, timeout=0, show_clicks=True)\n",
    "    x2, y2 = clicked[0]\n",
    "\n",
    "    plt.plot([x1, x2], [y1, y2], 'b')\n",
    "\n",
    "    return np.array([[x1, x2], [y1, y2], [1, 1]])"
   ]
  },
  {
   "cell_type": "markdown",
   "metadata": {},
   "source": [
    "# Your implementation"
   ]
  },
  {
   "cell_type": "code",
   "execution_count": 5,
   "metadata": {},
   "outputs": [],
   "source": [
    "def get_vanishing_point(n, lines, centers, endpoints):\n",
    "    \"\"\"\n",
    "    Solves for the vanishing point using the user-input lines.\n",
    "    \"\"\"\n",
    "    # <YOUR IMPLEMENTATION>\n",
    "    bestscore = 0\n",
    "    sigma = 0.1\n",
    "    point = np.zeros((3,1))\n",
    "    for i in range(n):\n",
    "        for j in range(i+1, n):\n",
    "            point = np.cross(lines[:,i], lines[:,j])\n",
    "            if not point[-1]==0:\n",
    "                score = 0\n",
    "                x1 = endpoints[:,i][0]\n",
    "                y1 = endpoints[:,i][1]\n",
    "                x2 = endpoints[:,i][3]\n",
    "                y2 = endpoints[:,i][4]\n",
    "                angle = np.arctan2(abs(y2-y1), abs(x2-x1))\n",
    "                angle = (angle+np.pi) % 2*np.pi - np.pi\n",
    "                length = np.linalg.norm([abs(y2-y1), abs(x2-x1)])\n",
    "                score += length * np.exp(-abs(angle)/(2*sigma**2))\n",
    "                x1 = endpoints[:,j][0]\n",
    "                y1 = endpoints[:,j][1]\n",
    "                x2 = endpoints[:,j][3]\n",
    "                y2 = endpoints[:,j][4]\n",
    "                angle = np.arctan2(abs(y2-y1), abs(x2-x1))\n",
    "                length = np.linalg.norm([abs(y2-y1), abs(x2-x1)])\n",
    "                score += length * np.exp(-abs(angle)/(2*sigma**2))\n",
    "                \n",
    "                if score > bestscore:\n",
    "                    score = bestscore\n",
    "                    bestpoint = point/point[-1]\n",
    "    return bestpoint\n",
    "    pass"
   ]
  },
  {
   "cell_type": "code",
   "execution_count": 6,
   "metadata": {},
   "outputs": [],
   "source": [
    "def get_horizon_line(vpts):\n",
    "    \"\"\"\n",
    "    Calculates the ground horizon line.\n",
    "    \"\"\"\n",
    "    # <YOUR IMPLEMENTATION>\n",
    "    horizon_line = np.cross(vpts[:, 0], vpts[:, 1])\n",
    "    scale = np.linalg.norm([horizon_line[0], horizon_line[1]])\n",
    "    horizon_line = horizon_line/scale\n",
    "    return horizon_line\n",
    "    pass"
   ]
  },
  {
   "cell_type": "code",
   "execution_count": 7,
   "metadata": {},
   "outputs": [],
   "source": [
    "def plot_horizon_line(im, horizon_line):\n",
    "    \"\"\"\n",
    "    Plots the horizon line.\n",
    "    \"\"\"\n",
    "    # <YOUR IMPLEMENTATION>\n",
    "    col = im.shape[1]\n",
    "    x_array = np.arange(0, col, 1)\n",
    "    y_array = horizon_line[0]*x_array+horizon_line[2] / (-horizon_line[1])\n",
    "    plt.figure()\n",
    "    plt.imshow(im)\n",
    "    plt.plot(x_array, y_array, 'g')\n",
    "    pass"
   ]
  },
  {
   "cell_type": "code",
   "execution_count": 8,
   "metadata": {},
   "outputs": [],
   "source": [
    "def get_camera_parameters(vpts):\n",
    "    \"\"\"\n",
    "    Computes the camera parameters. Hint: The SymPy package is suitable for this.\n",
    "    \"\"\"\n",
    "    # <YOUR IMPLEMENTATION>\n",
    "    vpt1 = vpts[:, 0][:, np.newaxis] \n",
    "    vpt2 = vpts[:, 1][:, np.newaxis]\n",
    "    vpt3 = vpts[:, 2][:, np.newaxis]\n",
    "    \n",
    "    f, px, py= symbols('f, px, py')\n",
    "    KT = Matrix([[1/f, 0, 0], [0, 1/f, 0], [-px/f, -py/f, 1]])\n",
    "    K = Matrix([[1/f, 0, -px/f], [0, 1/f, -py/f], [0, 0, 1]])\n",
    "     \n",
    "    eq1 = vpt1.T * KT * K * vpt2\n",
    "    eq2 = vpt1.T * KT * K * vpt3\n",
    "    eq3 = vpt2.T * KT * K * vpt3\n",
    "    f, px, py = solve([eq1[0], eq2[0], eq3[0]], (f, px, py))[0]\n",
    "\n",
    "    return abs(f), px, py\n",
    "    pass"
   ]
  },
  {
   "cell_type": "code",
   "execution_count": 9,
   "metadata": {},
   "outputs": [],
   "source": [
    "def get_rotation_matrix(f, u, v, vpts):\n",
    "    \"\"\"\n",
    "    Computes the rotation matrix using the camera parameters.\n",
    "    \"\"\"\n",
    "    # <YOUR IMPLEMENTATION>\n",
    "    vpt1 = vpts[:, 0][:, np.newaxis] \n",
    "    vpt2 = vpts[:, 1][:, np.newaxis]\n",
    "    vpt3 = vpts[:, 2][:, np.newaxis]\n",
    "    K = np.array([[f, 0, u], [0, f, v], [0, 0, 1]]).astype(np.float64)\n",
    "    K_inv = np.linalg.inv(K)\n",
    "\n",
    "    r1 = K_inv.dot(vpt2)\n",
    "    r2 = K_inv.dot(vpt3)\n",
    "    r3 = K_inv.dot(vpt1)\n",
    "    r1 = r1 / np.linalg.norm(r1)\n",
    "    r2 = r2 / np.linalg.norm(r2)\n",
    "    r3 = r3 / np.linalg.norm(r3)\n",
    "\n",
    "    R = np.concatenate((r1, r2, r3), axis=1)\n",
    "    return R"
   ]
  },
  {
   "cell_type": "code",
   "execution_count": 35,
   "metadata": {},
   "outputs": [],
   "source": [
    "def estimate_height(coords, obj, horizon_line, vpts):\n",
    "    \"\"\"\n",
    "    Estimates height for a specific object using the recorded coordinates. You might need to plot additional images here for\n",
    "    your report.\n",
    "    \"\"\"\n",
    "    # <YOUR IMPLEMENTATION>\n",
    "    horizon_line = horizon_line/np.linalg.norm([horizon_line[0], horizon_line[1]])\n",
    "    lamp = coords['lamp']\n",
    "    lamp_top = lamp[:,0]\n",
    "    lamp_bottom = lamp[:,1]\n",
    "    object = coords[obj]\n",
    "    object_top = object[:,0]\n",
    "    object_bottom = object[:,1]\n",
    "    bottom_line = np.cross(lamp_bottom, object_bottom)\n",
    "    vanishing_point = np.cross(bottom_line, horizon_line)\n",
    "    vanishing_point = vanishing_point/vanishing_point[-1]\n",
    "    object_line = np.cross(object_bottom, object_top)\n",
    "    lamptop_vanish = np.cross(lamp_top, vanishing_point)\n",
    "    target_point = np.cross(lamptop_vanish, object_line)\n",
    "    target_point = target_point/target_point[-1]\n",
    "    infinite_vpt = vpts[:,2]\n",
    "    p1_p3 = np.linalg.norm(object_bottom-object_top)\n",
    "    p2_p4 = np.linalg.norm(infinite_vpt-target_point)\n",
    "    p3_p4 = np.linalg.norm(object_top-infinite_vpt)\n",
    "    p1_p2 = np.linalg.norm(object_bottom-target_point)\n",
    "    ratio = p1_p3*p2_p4 / (p1_p2*p3_p4)\n",
    "    \n",
    "    plt.figure()\n",
    "    plt.imshow(im)\n",
    "    col = im.shape[1]\n",
    "    x_array = np.arange(0, col, 1)\n",
    "    y_array = horizon_line[0]*x_array+horizon_line[2] / (-horizon_line[1])\n",
    "    plt.plot(x_array, y_array, 'g')\n",
    "    plt.plot([vanishing_point[0], lamp_bottom[0]], [vanishing_point[1], lamp_bottom[1]], 'r')\n",
    "    plt.plot([vanishing_point[0], target_point[0]], [vanishing_point[1], target_point[1]], 'r')\n",
    "    plt.plot([vanishing_point[0], object_top[0]], [vanishing_point[1], object_top[1]], 'r')\n",
    "    plt.plot([lamp_top[0], lamp_bottom[0]], [lamp_top[1], lamp_bottom[1]], 'b')\n",
    "    plt.plot([object_bottom[0], object_top[0]], [object_bottom[1], object_top[1]], 'b')\n",
    "    plt.plot(vanishing_point[0], vanishing_point[1], 'go')\n",
    "    plt.show()\n",
    "    return ratio\n",
    "    pass"
   ]
  },
  {
   "cell_type": "markdown",
   "metadata": {},
   "source": [
    "# Main function"
   ]
  },
  {
   "cell_type": "code",
   "execution_count": 10,
   "metadata": {},
   "outputs": [
    {
     "name": "stdout",
     "output_type": "stream",
     "text": [
      "Getting vanishing point 0\n",
      "Set at least 3 lines to compute vanishing point\n",
      "Click the two endpoints, use the right key to undo, and use the middle key to stop input\n",
      "Click the two endpoints, use the right key to undo, and use the middle key to stop input\n",
      "Click the two endpoints, use the right key to undo, and use the middle key to stop input\n",
      "Click the two endpoints, use the right key to undo, and use the middle key to stop input\n",
      "Click the two endpoints, use the right key to undo, and use the middle key to stop input\n",
      "Getting vanishing point 1\n",
      "Set at least 3 lines to compute vanishing point\n",
      "Click the two endpoints, use the right key to undo, and use the middle key to stop input\n",
      "Click the two endpoints, use the right key to undo, and use the middle key to stop input\n",
      "Click the two endpoints, use the right key to undo, and use the middle key to stop input\n",
      "Click the two endpoints, use the right key to undo, and use the middle key to stop input\n",
      "Click the two endpoints, use the right key to undo, and use the middle key to stop input\n",
      "Getting vanishing point 2\n",
      "Set at least 3 lines to compute vanishing point\n",
      "Click the two endpoints, use the right key to undo, and use the middle key to stop input\n",
      "Click the two endpoints, use the right key to undo, and use the middle key to stop input\n",
      "Click the two endpoints, use the right key to undo, and use the middle key to stop input\n",
      "Click the two endpoints, use the right key to undo, and use the middle key to stop input\n",
      "Click the two endpoints, use the right key to undo, and use the middle key to stop input\n"
     ]
    }
   ],
   "source": [
    "im = np.asarray(Image.open('CSL.jpeg'))\n",
    "\n",
    "# Part 1\n",
    "# Get vanishing points for each of the directions\n",
    "num_vpts = 3\n",
    "vpts = np.zeros((3, num_vpts))\n",
    "for i in range(num_vpts):\n",
    "    print('Getting vanishing point %d' % i)\n",
    "    # Get at least three lines from user input\n",
    "    n, lines, centers, endpoints = get_input_lines(im)\n",
    "    # <YOUR IMPLEMENTATION> Solve for vanishing point\n",
    "    vpts[:, i] = get_vanishing_point(n, lines, centers, endpoints)\n",
    "    # Plot the lines and the vanishing point\n",
    "    #plot_lines_and_vp(im, lines, vpts[:, i])\n",
    "\n"
   ]
  },
  {
   "cell_type": "code",
   "execution_count": 11,
   "metadata": {},
   "outputs": [],
   "source": [
    "\n",
    "# <YOUR IMPLEMENTATION> Get the ground horizon line\n",
    "horizon_line = get_horizon_line(vpts)\n",
    "# <YOUR IMPLEMENTATION> Plot the ground horizon line\n",
    "plot_horizon_line(im, horizon_line)\n"
   ]
  },
  {
   "cell_type": "code",
   "execution_count": 12,
   "metadata": {},
   "outputs": [],
   "source": [
    "\n",
    "# Part 2\n",
    "# <YOUR IMPLEMENTATION> Solve for the camera parameters (f, u, v)\n",
    "f, u, v = get_camera_parameters(vpts)\n"
   ]
  },
  {
   "cell_type": "code",
   "execution_count": 13,
   "metadata": {},
   "outputs": [],
   "source": [
    "\n",
    "# Part 3\n",
    "# <YOUR IMPLEMENTATION> Solve for the rotation matrix\n",
    "R = get_rotation_matrix(f, u, v, vpts)\n"
   ]
  },
  {
   "cell_type": "code",
   "execution_count": 36,
   "metadata": {},
   "outputs": [
    {
     "name": "stdout",
     "output_type": "stream",
     "text": [
      "Click on the top coordinate of lamp\n",
      "Click on the bottom coordinate of lamp\n",
      "Click on the top coordinate of front gable\n",
      "Click on the bottom coordinate of front gable\n",
      "Click on the top coordinate of side gable\n",
      "Click on the bottom coordinate of side gable\n",
      "Estimating height of front gable\n",
      "height of front gable is 3.992703724086958 times lamp height\n",
      "Estimating height of side gable\n",
      "height of side gable is 3.804148717579115 times lamp height\n"
     ]
    }
   ],
   "source": [
    "\n",
    "# Part 4\n",
    "# Record image coordinates for each object and store in map\n",
    "objects = ('lamp', 'front gable', 'side gable')\n",
    "coords = dict()\n",
    "for obj in objects:\n",
    "    coords[obj] = get_top_and_bottom_coordinates(im, obj)\n",
    "\n",
    "\n",
    "# <YOUR IMPLEMENTATION> Estimate heights\n",
    "for obj in objects[1:]:\n",
    "    print('Estimating height of %s' % obj)\n",
    "    height = estimate_height(coords, obj, horizon_line, vpts)\n",
    "    print(f\"height of {obj} is {height} times lamp height\")\n"
   ]
  }
 ],
 "metadata": {
  "kernelspec": {
   "display_name": "Python 3",
   "language": "python",
   "name": "python3"
  },
  "language_info": {
   "codemirror_mode": {
    "name": "ipython",
    "version": 3
   },
   "file_extension": ".py",
   "mimetype": "text/x-python",
   "name": "python",
   "nbconvert_exporter": "python",
   "pygments_lexer": "ipython3",
   "version": "3.1.0"
  }
 },
 "nbformat": 4,
 "nbformat_minor": 2
}
